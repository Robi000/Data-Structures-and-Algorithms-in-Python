{
 "cells": [
  {
   "attachments": {},
   "cell_type": "markdown",
   "metadata": {},
   "source": [
    "# Recursion, the Fibonacci Sequence and Memoization"
   ]
  },
  {
   "cell_type": "code",
   "execution_count": 24,
   "metadata": {},
   "outputs": [],
   "source": [
    "def fabonacci (n):\n",
    "    if n == 1:\n",
    "        return 1\n",
    "    elif n == 2:\n",
    "        return 1\n",
    "    elif n > 2:\n",
    "        return fabonacci(n-1)+ fabonacci(n-2)"
   ]
  },
  {
   "cell_type": "code",
   "execution_count": 29,
   "metadata": {},
   "outputs": [
    {
     "name": "stdout",
     "output_type": "stream",
     "text": [
      "1 : 1\n",
      "2 : 1\n",
      "3 : 2\n",
      "4 : 3\n",
      "5 : 5\n",
      "6 : 8\n",
      "7 : 13\n",
      "8 : 21\n",
      "9 : 34\n",
      "10 : 55\n"
     ]
    }
   ],
   "source": [
    "for n in range(1 , 11):\n",
    "    print (n, \":\", fabonacci(n))"
   ]
  },
  {
   "attachments": {},
   "cell_type": "markdown",
   "metadata": {},
   "source": [
    "with only 37 inputs it take 14 secound so its inefficent "
   ]
  },
  {
   "cell_type": "code",
   "execution_count": 7,
   "metadata": {},
   "outputs": [
    {
     "name": "stdout",
     "output_type": "stream",
     "text": [
      "1 : 1\n",
      "2 : 1\n",
      "3 : 2\n",
      "4 : 3\n",
      "5 : 5\n",
      "6 : 8\n",
      "7 : 13\n",
      "8 : 21\n",
      "9 : 34\n",
      "10 : 55\n",
      "11 : 89\n",
      "12 : 144\n",
      "13 : 233\n",
      "14 : 377\n",
      "15 : 610\n",
      "16 : 987\n",
      "17 : 1597\n",
      "18 : 2584\n",
      "19 : 4181\n",
      "20 : 6765\n",
      "21 : 10946\n",
      "22 : 17711\n",
      "23 : 28657\n",
      "24 : 46368\n",
      "25 : 75025\n",
      "26 : 121393\n",
      "27 : 196418\n",
      "28 : 317811\n",
      "29 : 514229\n",
      "30 : 832040\n",
      "31 : 1346269\n",
      "32 : 2178309\n",
      "33 : 3524578\n",
      "34 : 5702887\n",
      "35 : 9227465\n",
      "36 : 14930352\n"
     ]
    }
   ],
   "source": [
    "for n in range(1 , 37):\n",
    "    print (n, \":\", fabonacci(n))"
   ]
  },
  {
   "attachments": {},
   "cell_type": "markdown",
   "metadata": {},
   "source": [
    "#### how can we make this more efficent \n",
    "##### ------ use Memoization ---------\n",
    "\n",
    "idea : use cache values"
   ]
  },
  {
   "cell_type": "code",
   "execution_count": 31,
   "metadata": {},
   "outputs": [
    {
     "name": "stdout",
     "output_type": "stream",
     "text": [
      "1 : 1\n",
      "2 : 1\n",
      "3 : 2\n",
      "4 : 3\n",
      "5 : 5\n",
      "6 : 8\n",
      "7 : 13\n",
      "8 : 21\n",
      "9 : 34\n",
      "10 : 55\n",
      "11 : 89\n",
      "12 : 144\n",
      "13 : 233\n",
      "14 : 377\n",
      "15 : 610\n",
      "16 : 987\n",
      "17 : 1597\n",
      "18 : 2584\n",
      "19 : 4181\n",
      "20 : 6765\n",
      "21 : 10946\n",
      "22 : 17711\n",
      "23 : 28657\n",
      "24 : 46368\n",
      "25 : 75025\n",
      "26 : 121393\n",
      "27 : 196418\n",
      "28 : 317811\n",
      "29 : 514229\n",
      "30 : 832040\n",
      "31 : 1346269\n",
      "32 : 2178309\n",
      "33 : 3524578\n",
      "34 : 5702887\n",
      "35 : 9227465\n",
      "36 : 14930352\n"
     ]
    }
   ],
   "source": [
    "fc = {} # febonacci_cache\n",
    "\n",
    "def fibonacci(n) :\n",
    "    # print(n , fc)\n",
    "    if n in fc:\n",
    "        # print(\"out\")\n",
    "        return fc[n]\n",
    "    \n",
    "    if n == 1 or n == 2:\n",
    "        value = 1\n",
    "    elif n > 2:\n",
    "        value = fibonacci(n-1) + fibonacci(n-2)\n",
    "        \n",
    "    fc[n] = value\n",
    "    return value\n",
    "\n",
    "for n in range(1 ,37):\n",
    "    print (n, \":\", fibonacci(n))\n",
    "\n",
    "\n",
    "\n",
    "# print(fc)\n"
   ]
  },
  {
   "attachments": {},
   "cell_type": "markdown",
   "metadata": {},
   "source": [
    "we will see"
   ]
  },
  {
   "cell_type": "code",
   "execution_count": 17,
   "metadata": {},
   "outputs": [
    {
     "name": "stdout",
     "output_type": "stream",
     "text": [
      "1 {1: 1, 2: 1, 3: 2, 4: 3}\n",
      "out\n",
      "1 : 1\n",
      "2 {1: 1, 2: 1, 3: 2, 4: 3}\n",
      "out\n",
      "2 : 1\n",
      "3 {1: 1, 2: 1, 3: 2, 4: 3}\n",
      "out\n",
      "3 : 2\n",
      "4 {1: 1, 2: 1, 3: 2, 4: 3}\n",
      "out\n",
      "4 : 3\n",
      "{1: 1, 2: 1, 3: 2, 4: 3}\n"
     ]
    }
   ],
   "source": [
    "for n in range(1 , 5):\n",
    "    print (n, \":\", fibonacci(n))\n",
    "\n",
    "print(fc)"
   ]
  }
 ],
 "metadata": {
  "kernelspec": {
   "display_name": "Python 3",
   "language": "python",
   "name": "python3"
  },
  "language_info": {
   "codemirror_mode": {
    "name": "ipython",
    "version": 3
   },
   "file_extension": ".py",
   "mimetype": "text/x-python",
   "name": "python",
   "nbconvert_exporter": "python",
   "pygments_lexer": "ipython3",
   "version": "3.10.5"
  },
  "orig_nbformat": 4,
  "vscode": {
   "interpreter": {
    "hash": "369f2c481f4da34e4445cda3fffd2e751bd1c4d706f27375911949ba6bb62e1c"
   }
  }
 },
 "nbformat": 4,
 "nbformat_minor": 2
}
