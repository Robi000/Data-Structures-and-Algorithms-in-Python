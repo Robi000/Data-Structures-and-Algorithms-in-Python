{
 "cells": [
  {
   "attachments": {},
   "cell_type": "markdown",
   "metadata": {},
   "source": [
    "#### 1) Write a Python program to calculate the sum of the positive integers of n+(n-2)+(n-4)... (until n-x =< 0).\n"
   ]
  },
  {
   "cell_type": "code",
   "execution_count": 3,
   "metadata": {},
   "outputs": [
    {
     "name": "stdout",
     "output_type": "stream",
     "text": [
      "12\n",
      "30\n"
     ]
    }
   ],
   "source": [
    "def adder(n):\n",
    "    if n<= 0 :\n",
    "        return 0\n",
    "    \n",
    "    total = n+ adder(n-2)\n",
    "    return total\n",
    "\n",
    "print(adder(6))\n",
    "print(adder(10))"
   ]
  },
  {
   "attachments": {},
   "cell_type": "markdown",
   "metadata": {},
   "source": [
    "### 2)Write a Python program to calculate the value of 'a' to the power of 'b'. Go to the editor\n",
    "Test Data :\n",
    "(power(3,4) -> 81"
   ]
  },
  {
   "cell_type": "code",
   "execution_count": 6,
   "metadata": {},
   "outputs": [
    {
     "name": "stdout",
     "output_type": "stream",
     "text": [
      "81\n",
      "32\n"
     ]
    }
   ],
   "source": [
    "def power(n , k):\n",
    "    if k == 0:\n",
    "        return 1\n",
    "    tot = n * power(n , k-1)\n",
    "    return tot\n",
    "\n",
    "print(power(3,4))\n",
    "print(power(2,5))"
   ]
  }
 ],
 "metadata": {
  "kernelspec": {
   "display_name": "Python 3",
   "language": "python",
   "name": "python3"
  },
  "language_info": {
   "codemirror_mode": {
    "name": "ipython",
    "version": 3
   },
   "file_extension": ".py",
   "mimetype": "text/x-python",
   "name": "python",
   "nbconvert_exporter": "python",
   "pygments_lexer": "ipython3",
   "version": "3.10.5"
  },
  "orig_nbformat": 4,
  "vscode": {
   "interpreter": {
    "hash": "369f2c481f4da34e4445cda3fffd2e751bd1c4d706f27375911949ba6bb62e1c"
   }
  }
 },
 "nbformat": 4,
 "nbformat_minor": 2
}
